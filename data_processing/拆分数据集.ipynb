{
 "cells": [
  {
   "cell_type": "code",
   "execution_count": 4,
   "id": "72795f6d-b264-47d7-a208-bda4fc7a8430",
   "metadata": {},
   "outputs": [],
   "source": [
    "import os"
   ]
  },
  {
   "cell_type": "code",
   "execution_count": 3,
   "id": "1163a215-adf9-43ee-af77-6f89d966d36e",
   "metadata": {},
   "outputs": [
    {
     "data": {
      "text/plain": [
       "['病毒病',\n",
       " '果腐病',\n",
       " '白粉病',\n",
       " '灰霉病',\n",
       " '褐斑病',\n",
       " '白粉虱',\n",
       " '着色不良',\n",
       " '炭疽',\n",
       " '冻害',\n",
       " '缺素症',\n",
       " '革腐病',\n",
       " '畸形果',\n",
       " '斜纹夜蛾',\n",
       " '根腐病',\n",
       " '黄萎病',\n",
       " '红蜘蛛',\n",
       " '叶斑病',\n",
       " '叶烧']"
      ]
     },
     "execution_count": 3,
     "metadata": {},
     "output_type": "execute_result"
    }
   ],
   "source": [
    "os.listdir('/home/featurize/straw')"
   ]
  },
  {
   "cell_type": "code",
   "execution_count": 4,
   "id": "d610bc67-8307-49d5-b3dd-64ac2049e91b",
   "metadata": {},
   "outputs": [
    {
     "name": "stdout",
     "output_type": "stream",
     "text": [
      "                     USER        PID ACCESS COMMAND\n",
      "/dev/nvidia-uvm:     featurize  23522 F...m python\n",
      "/dev/nvidia0:        featurize  23522 F...m python\n",
      "/dev/nvidiactl:      featurize  23522 F...m python\n"
     ]
    }
   ],
   "source": [
    "!fuser -v /dev/nvidia*"
   ]
  },
  {
   "cell_type": "code",
   "execution_count": null,
   "id": "3db9d015-e491-4435-9f9d-f39b08093e74",
   "metadata": {},
   "outputs": [],
   "source": [
    "! nvidia-smi"
   ]
  },
  {
   "cell_type": "code",
   "execution_count": 8,
   "id": "3c11b8b4-39a1-4a2d-be25-e32420559a1f",
   "metadata": {},
   "outputs": [
    {
     "name": "stdout",
     "output_type": "stream",
     "text": [
      "Looking in indexes: https://pypi.tuna.tsinghua.edu.cn/simple\n",
      "Collecting split-folders\n",
      "  Downloading https://pypi.tuna.tsinghua.edu.cn/packages/b6/d5/307d63c03356bad6e141d8718d3f4116f51bd9c4b09e2614ffcee1f3c6fd/split_folders-0.5.1-py3-none-any.whl (8.4 kB)\n",
      "Installing collected packages: split-folders\n",
      "Successfully installed split-folders-0.5.1\n"
     ]
    }
   ],
   "source": [
    "!pip install --user split-folders"
   ]
  },
  {
   "cell_type": "markdown",
   "id": "7903c0ae-e2ed-4a02-953b-6f9bb667f892",
   "metadata": {},
   "source": [
    "## 拆分数据集"
   ]
  },
  {
   "cell_type": "code",
   "execution_count": 1,
   "id": "0c51a43f-555b-4d0f-b727-47e4c3d787e0",
   "metadata": {},
   "outputs": [],
   "source": [
    "import splitfolders"
   ]
  },
  {
   "cell_type": "code",
   "execution_count": 2,
   "id": "c786ced7-0490-4b6c-a873-fe61b9610aea",
   "metadata": {},
   "outputs": [
    {
     "name": "stderr",
     "output_type": "stream",
     "text": [
      "Copying files: 1239 files [00:00, 1767.78 files/s]\n"
     ]
    }
   ],
   "source": [
    "splitfolders.ratio('/home/featurize/data/strawberry',output='/home/featurize/data/train_val',seed=1337,ratio=(0.8,0.2),group_prefix=None)"
   ]
  },
  {
   "cell_type": "code",
   "execution_count": 5,
   "id": "45125ea3-a6ab-4e02-9235-6062f4ad7a1c",
   "metadata": {},
   "outputs": [
    {
     "data": {
      "text/plain": [
       "['病毒病',\n",
       " '灰霉病',\n",
       " '白粉虱',\n",
       " 'Strawberry___Leaf_scorch',\n",
       " '着色不良',\n",
       " '冻害',\n",
       " '缺素症',\n",
       " '革腐病',\n",
       " 'Strawberry___healthy',\n",
       " '斜纹夜蛾',\n",
       " '根腐病',\n",
       " '黄萎病',\n",
       " '叶斑病']"
      ]
     },
     "execution_count": 5,
     "metadata": {},
     "output_type": "execute_result"
    }
   ],
   "source": [
    "os.listdir('/home/featurize/data/train_val/train/')"
   ]
  },
  {
   "cell_type": "code",
   "execution_count": 6,
   "id": "127917e5-d9de-49d2-9900-9441eebd32ae",
   "metadata": {},
   "outputs": [],
   "source": [
    "import os"
   ]
  },
  {
   "cell_type": "code",
   "execution_count": 14,
   "id": "15e3e77a-a13c-4022-8e1d-c176a68078bb",
   "metadata": {},
   "outputs": [],
   "source": [
    "!rm -rf /home/featurize/data/strawberry2/test/.ipynb_checkpoints"
   ]
  },
  {
   "cell_type": "code",
   "execution_count": 6,
   "id": "4c07d0d1-5320-401f-b702-d8c3fd8144db",
   "metadata": {},
   "outputs": [],
   "source": [
    "!rm -rf /home/featurize/data/train_val/train/.ipynb_checkpoints"
   ]
  },
  {
   "cell_type": "code",
   "execution_count": 7,
   "id": "3aec0ccf-ec7e-43b4-99b8-f93fc092f596",
   "metadata": {},
   "outputs": [],
   "source": [
    "!rm -rf /home/featurize/data/train_val/val/.ipynb_checkpoints"
   ]
  },
  {
   "cell_type": "code",
   "execution_count": 2,
   "id": "902ee06c-1c10-4097-b301-485656f6c6f5",
   "metadata": {},
   "outputs": [],
   "source": [
    "!rm -rf /home/featurize/work/Object_Detection/d712b7cd"
   ]
  },
  {
   "cell_type": "code",
   "execution_count": null,
   "id": "06ef13ad-9c02-4978-97e3-27477f547016",
   "metadata": {},
   "outputs": [],
   "source": []
  }
 ],
 "metadata": {
  "kernelspec": {
   "display_name": "Python 3 (ipykernel)",
   "language": "python",
   "name": "python3"
  },
  "language_info": {
   "codemirror_mode": {
    "name": "ipython",
    "version": 3
   },
   "file_extension": ".py",
   "mimetype": "text/x-python",
   "name": "python",
   "nbconvert_exporter": "python",
   "pygments_lexer": "ipython3",
   "version": "3.7.10"
  }
 },
 "nbformat": 4,
 "nbformat_minor": 5
}
