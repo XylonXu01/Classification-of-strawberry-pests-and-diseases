{
 "cells": [
  {
   "cell_type": "code",
   "execution_count": 18,
   "id": "e4c16213-f963-450b-a77f-0b3e342ae89f",
   "metadata": {},
   "outputs": [
    {
     "name": "stdout",
     "output_type": "stream",
     "text": [
      "file tall : 200\n",
      "[##############################] 100% \n",
      "incomplete file : 14\n"
     ]
    }
   ],
   "source": [
    "import os\n",
    " \n",
    "train_dir = '/home/featurize/data/着色不良/'\n",
    " \n",
    "def progress(percent, width=50):\n",
    "    '''进度打印功能'''\n",
    "    if percent >= 100:\n",
    "        percent = 100\n",
    " \n",
    "    show_str = ('[%%-%ds]' % width) % (int(width * percent / 100) * \"#\")  # 字符串拼接的嵌套使用\n",
    "    print('\\r%s %d%% ' % (show_str, percent), end='')\n",
    " \n",
    "def is_valid_jpg(jpg_file):\n",
    "    with open(jpg_file, 'rb') as f:\n",
    "        f.seek(-2, 2)\n",
    "        buf = f.read()\n",
    "        f.close()\n",
    "        return buf ==  b'\\xff\\xd9'  # 判定jpg是否包含结束字段\n",
    " \n",
    "data_size = len([lists for lists in os.listdir(train_dir) if os.path.isfile(os.path.join(train_dir, lists))])\n",
    "recv_size = 0\n",
    "incompleteFile = 0\n",
    "print('file tall : %d' % data_size)\n",
    " \n",
    "for file in os.listdir(train_dir):\n",
    "    if os.path.splitext(file)[1].lower() == '.jpg':\n",
    "        ret = is_valid_jpg(train_dir + file)\n",
    "        if ret == False:\n",
    "            incompleteFile = incompleteFile + 1\n",
    "            os.remove(train_dir + file)\n",
    " \n",
    "    recv_per = int(100 * recv_size / data_size)\n",
    "    progress(recv_per, width=30)\n",
    "    recv_size = recv_size + 1\n",
    " \n",
    "progress(100, width=30)\n",
    "print('\\nincomplete file : %d' % incompleteFile)"
   ]
  },
  {
   "cell_type": "code",
   "execution_count": 1,
   "id": "0d45340b-deea-400d-8034-36128393ed05",
   "metadata": {},
   "outputs": [],
   "source": [
    "import os"
   ]
  },
  {
   "cell_type": "code",
   "execution_count": 2,
   "id": "6327b848-69df-4883-a69f-c396b12974fe",
   "metadata": {},
   "outputs": [],
   "source": [
    "data = os.listdir('/home/featurize/data/strawberry')"
   ]
  },
  {
   "cell_type": "code",
   "execution_count": 3,
   "id": "ff7c5b4a-1003-4c44-987c-ee52b0832edc",
   "metadata": {},
   "outputs": [
    {
     "data": {
      "text/plain": [
       "['病毒病',\n",
       " '灰霉病',\n",
       " '白粉虱',\n",
       " 'Strawberry___Leaf_scorch',\n",
       " '着色不良',\n",
       " '冻害',\n",
       " '缺素症',\n",
       " '革腐病',\n",
       " 'Strawberry___healthy',\n",
       " '斜纹夜蛾',\n",
       " '根腐病',\n",
       " '黄萎病',\n",
       " '叶斑病']"
      ]
     },
     "execution_count": 3,
     "metadata": {},
     "output_type": "execute_result"
    }
   ],
   "source": [
    "data"
   ]
  },
  {
   "cell_type": "code",
   "execution_count": 4,
   "id": "d2600953-5e87-4902-850f-ab12bfbe3ee3",
   "metadata": {},
   "outputs": [],
   "source": [
    "def progress(percent, width=50):\n",
    "    '''进度打印功能'''\n",
    "    if percent >= 100:\n",
    "        percent = 100\n",
    " \n",
    "    show_str = ('[%%-%ds]' % width) % (int(width * percent / 100) * \"#\")  # 字符串拼接的嵌套使用\n",
    "    print('\\r%s %d%% ' % (show_str, percent), end='')\n",
    " \n",
    "def is_valid_jpg(jpg_file):\n",
    "    with open(jpg_file, 'rb') as f:\n",
    "        f.seek(-2, 2)\n",
    "        buf = f.read()\n",
    "        f.close()\n",
    "        return buf ==  b'\\xff\\xd9'  # 判定jpg是否包含结束字段"
   ]
  },
  {
   "cell_type": "code",
   "execution_count": 5,
   "id": "b4698c4d-ba40-4581-a580-6eaa68bc0368",
   "metadata": {},
   "outputs": [
    {
     "name": "stdout",
     "output_type": "stream",
     "text": [
      "file tall : 100\n",
      "[############################# ] 99% file tall : 100\n",
      "[############################# ] 99% file tall : 102\n",
      "[############################# ] 99% file tall : 100\n",
      "[############################# ] 99% file tall : 100\n",
      "[############################# ] 99% file tall : 99\n",
      "[############################# ] 98% file tall : 100\n",
      "[############################# ] 99% file tall : 114\n",
      "[############################# ] 99% file tall : 100\n",
      "[############################# ] 99% file tall : 90\n",
      "[############################# ] 98% file tall : 94\n",
      "[############################# ] 98% file tall : 62\n",
      "[############################# ] 98% file tall : 98\n",
      "[##############################] 100% \n",
      "incomplete file : 2\n"
     ]
    }
   ],
   "source": [
    "for i in data:\n",
    "    train_dir = '/home/featurize/data/strawberry/'+i+'/'\n",
    "    data_size = len([lists for lists in os.listdir(train_dir) if os.path.isfile(os.path.join(train_dir, lists))])\n",
    "    recv_size = 0\n",
    "    incompleteFile = 0\n",
    "    print('file tall : %d' % data_size)\n",
    "    for file in os.listdir(train_dir):\n",
    "        if os.path.splitext(file)[1].lower() == '.jpg':\n",
    "            ret = is_valid_jpg(train_dir + file)\n",
    "            if ret == False:\n",
    "                incompleteFile = incompleteFile + 1\n",
    "                os.remove(train_dir + file)\n",
    "        recv_per = int(100 * recv_size / data_size)\n",
    "        progress(recv_per, width=30)\n",
    "        recv_size = recv_size + 1 \n",
    "progress(100, width=30)\n",
    "print('\\nincomplete file : %d' % incompleteFile)\n",
    "    \n",
    " \n"
   ]
  },
  {
   "cell_type": "code",
   "execution_count": 4,
   "id": "e34d1112-1119-47f0-b2c6-264ebecefa44",
   "metadata": {},
   "outputs": [
    {
     "name": "stdout",
     "output_type": "stream",
     "text": [
      "file tall : 120\n",
      "[##############################] 100% \n",
      "incomplete file : 0\n"
     ]
    }
   ],
   "source": [
    "train_dir = '/home/featurize/data/picture/'\n",
    "data_size = len([lists for lists in os.listdir(train_dir) if os.path.isfile(os.path.join(train_dir, lists))])\n",
    "recv_size = 0\n",
    "incompleteFile = 0\n",
    "print('file tall : %d' % data_size)\n",
    "for file in os.listdir(train_dir):\n",
    "    if os.path.splitext(file)[1].lower() == '.jpg':\n",
    "        ret = is_valid_jpg(train_dir + file)\n",
    "        if ret == False:\n",
    "            incompleteFile = incompleteFile + 1\n",
    "            os.remove(train_dir + file)\n",
    "    recv_per = int(100 * recv_size / data_size)\n",
    "    progress(recv_per, width=30)\n",
    "    recv_size = recv_size + 1 \n",
    "progress(100, width=30)\n",
    "print('\\nincomplete file : %d' % incompleteFile)"
   ]
  },
  {
   "cell_type": "code",
   "execution_count": null,
   "id": "2dbed718-3667-4122-9acf-92e665421784",
   "metadata": {},
   "outputs": [],
   "source": []
  }
 ],
 "metadata": {
  "kernelspec": {
   "display_name": "Python 3 (ipykernel)",
   "language": "python",
   "name": "python3"
  },
  "language_info": {
   "codemirror_mode": {
    "name": "ipython",
    "version": 3
   },
   "file_extension": ".py",
   "mimetype": "text/x-python",
   "name": "python",
   "nbconvert_exporter": "python",
   "pygments_lexer": "ipython3",
   "version": "3.7.10"
  }
 },
 "nbformat": 4,
 "nbformat_minor": 5
}
